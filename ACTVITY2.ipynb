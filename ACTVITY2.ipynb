{
 "cells": [
  {
   "cell_type": "code",
   "execution_count": 1,
   "id": "5e4d9a66-8942-4ce2-81e7-b12878fc903a",
   "metadata": {},
   "outputs": [],
   "source": [
    "import numpy as np\n",
    "import pandas as pd\n",
    "import warnings\n",
    "warnings.filterwarnings(\"ignore\")"
   ]
  },
  {
   "cell_type": "code",
   "execution_count": 3,
   "id": "d3db9cbe-491c-44be-838d-2cb8aad575b5",
   "metadata": {},
   "outputs": [],
   "source": [
    "df = pd.read_csv(\"dataset\\\\uk_accident_data.csv\")"
   ]
  },
  {
   "cell_type": "code",
   "execution_count": 25,
   "id": "bdd7db4d-7841-48d1-bb49-8f4b031f7994",
   "metadata": {},
   "outputs": [
    {
     "data": {
      "text/html": [
       "<div>\n",
       "<style scoped>\n",
       "    .dataframe tbody tr th:only-of-type {\n",
       "        vertical-align: middle;\n",
       "    }\n",
       "\n",
       "    .dataframe tbody tr th {\n",
       "        vertical-align: top;\n",
       "    }\n",
       "\n",
       "    .dataframe thead th {\n",
       "        text-align: right;\n",
       "    }\n",
       "</style>\n",
       "<table border=\"1\" class=\"dataframe\">\n",
       "  <thead>\n",
       "    <tr style=\"text-align: right;\">\n",
       "      <th></th>\n",
       "      <th>Index</th>\n",
       "      <th>Accident_Severity</th>\n",
       "      <th>Accident Date</th>\n",
       "      <th>Latitude</th>\n",
       "      <th>Light_Conditions</th>\n",
       "      <th>District Area</th>\n",
       "      <th>Longitude</th>\n",
       "      <th>Number_of_Casualties</th>\n",
       "      <th>Number_of_Vehicles</th>\n",
       "      <th>Road_Surface_Conditions</th>\n",
       "      <th>Road_Type</th>\n",
       "      <th>Urban_or_Rural_Area</th>\n",
       "      <th>Weather_Conditions</th>\n",
       "      <th>Vehicle_Type</th>\n",
       "    </tr>\n",
       "  </thead>\n",
       "  <tbody>\n",
       "    <tr>\n",
       "      <th>0</th>\n",
       "      <td>200701BS64157</td>\n",
       "      <td>Serious</td>\n",
       "      <td>05/06/2019</td>\n",
       "      <td>51.506187</td>\n",
       "      <td>Darkness - lights lit</td>\n",
       "      <td>Kensington and Chelsea</td>\n",
       "      <td>-0.209082</td>\n",
       "      <td>1</td>\n",
       "      <td>2</td>\n",
       "      <td>Dry</td>\n",
       "      <td>Single carriageway</td>\n",
       "      <td>Urban</td>\n",
       "      <td>Fine no high winds</td>\n",
       "      <td>Car</td>\n",
       "    </tr>\n",
       "    <tr>\n",
       "      <th>1</th>\n",
       "      <td>200701BS65737</td>\n",
       "      <td>Serious</td>\n",
       "      <td>02/07/2019</td>\n",
       "      <td>51.495029</td>\n",
       "      <td>Daylight</td>\n",
       "      <td>Kensington and Chelsea</td>\n",
       "      <td>-0.173647</td>\n",
       "      <td>1</td>\n",
       "      <td>2</td>\n",
       "      <td>Wet or damp</td>\n",
       "      <td>Single carriageway</td>\n",
       "      <td>Urban</td>\n",
       "      <td>Raining no high winds</td>\n",
       "      <td>Car</td>\n",
       "    </tr>\n",
       "    <tr>\n",
       "      <th>2</th>\n",
       "      <td>200701BS66127</td>\n",
       "      <td>Serious</td>\n",
       "      <td>26/08/2019</td>\n",
       "      <td>51.517715</td>\n",
       "      <td>Darkness - lighting unknown</td>\n",
       "      <td>Kensington and Chelsea</td>\n",
       "      <td>-0.210215</td>\n",
       "      <td>1</td>\n",
       "      <td>3</td>\n",
       "      <td>Dry</td>\n",
       "      <td>Single carriageway</td>\n",
       "      <td>Urban</td>\n",
       "      <td>Fine no high winds</td>\n",
       "      <td>Taxi/Private hire car</td>\n",
       "    </tr>\n",
       "    <tr>\n",
       "      <th>3</th>\n",
       "      <td>200701BS66128</td>\n",
       "      <td>Serious</td>\n",
       "      <td>16/08/2019</td>\n",
       "      <td>51.495478</td>\n",
       "      <td>Daylight</td>\n",
       "      <td>Kensington and Chelsea</td>\n",
       "      <td>-0.202731</td>\n",
       "      <td>1</td>\n",
       "      <td>4</td>\n",
       "      <td>Dry</td>\n",
       "      <td>Single carriageway</td>\n",
       "      <td>Urban</td>\n",
       "      <td>Fine no high winds</td>\n",
       "      <td>Bus or coach (17 or more pass seats)</td>\n",
       "    </tr>\n",
       "    <tr>\n",
       "      <th>4</th>\n",
       "      <td>200701BS66837</td>\n",
       "      <td>Slight</td>\n",
       "      <td>03/09/2019</td>\n",
       "      <td>51.488576</td>\n",
       "      <td>Darkness - lights lit</td>\n",
       "      <td>Kensington and Chelsea</td>\n",
       "      <td>-0.192487</td>\n",
       "      <td>1</td>\n",
       "      <td>2</td>\n",
       "      <td>Dry</td>\n",
       "      <td>Single carriageway</td>\n",
       "      <td>Urban</td>\n",
       "      <td>Fine no high winds</td>\n",
       "      <td>Other vehicle</td>\n",
       "    </tr>\n",
       "    <tr>\n",
       "      <th>...</th>\n",
       "      <td>...</td>\n",
       "      <td>...</td>\n",
       "      <td>...</td>\n",
       "      <td>...</td>\n",
       "      <td>...</td>\n",
       "      <td>...</td>\n",
       "      <td>...</td>\n",
       "      <td>...</td>\n",
       "      <td>...</td>\n",
       "      <td>...</td>\n",
       "      <td>...</td>\n",
       "      <td>...</td>\n",
       "      <td>...</td>\n",
       "      <td>...</td>\n",
       "    </tr>\n",
       "    <tr>\n",
       "      <th>660674</th>\n",
       "      <td>201091NM01760</td>\n",
       "      <td>Slight</td>\n",
       "      <td>18/02/2022</td>\n",
       "      <td>57.374005</td>\n",
       "      <td>Daylight</td>\n",
       "      <td>Highland</td>\n",
       "      <td>-3.467828</td>\n",
       "      <td>2</td>\n",
       "      <td>1</td>\n",
       "      <td>Dry</td>\n",
       "      <td>Single carriageway</td>\n",
       "      <td>Rural</td>\n",
       "      <td>Fine no high winds</td>\n",
       "      <td>Car</td>\n",
       "    </tr>\n",
       "    <tr>\n",
       "      <th>660675</th>\n",
       "      <td>201091NM01881</td>\n",
       "      <td>Slight</td>\n",
       "      <td>21/02/2022</td>\n",
       "      <td>57.232273</td>\n",
       "      <td>Darkness - no lighting</td>\n",
       "      <td>Highland</td>\n",
       "      <td>-3.809281</td>\n",
       "      <td>1</td>\n",
       "      <td>1</td>\n",
       "      <td>Frost or ice</td>\n",
       "      <td>Single carriageway</td>\n",
       "      <td>Rural</td>\n",
       "      <td>Fine no high winds</td>\n",
       "      <td>Car</td>\n",
       "    </tr>\n",
       "    <tr>\n",
       "      <th>660676</th>\n",
       "      <td>201091NM01935</td>\n",
       "      <td>Slight</td>\n",
       "      <td>23/02/2022</td>\n",
       "      <td>57.585044</td>\n",
       "      <td>Daylight</td>\n",
       "      <td>Highland</td>\n",
       "      <td>-3.862727</td>\n",
       "      <td>1</td>\n",
       "      <td>3</td>\n",
       "      <td>Frost or ice</td>\n",
       "      <td>Single carriageway</td>\n",
       "      <td>Rural</td>\n",
       "      <td>Fine no high winds</td>\n",
       "      <td>Car</td>\n",
       "    </tr>\n",
       "    <tr>\n",
       "      <th>660677</th>\n",
       "      <td>201091NM01964</td>\n",
       "      <td>Serious</td>\n",
       "      <td>23/02/2022</td>\n",
       "      <td>57.214898</td>\n",
       "      <td>Darkness - no lighting</td>\n",
       "      <td>Highland</td>\n",
       "      <td>-3.823997</td>\n",
       "      <td>1</td>\n",
       "      <td>2</td>\n",
       "      <td>Wet or damp</td>\n",
       "      <td>Single carriageway</td>\n",
       "      <td>Rural</td>\n",
       "      <td>Fine no high winds</td>\n",
       "      <td>Motorcycle over 500cc</td>\n",
       "    </tr>\n",
       "    <tr>\n",
       "      <th>660678</th>\n",
       "      <td>201091NM02142</td>\n",
       "      <td>Serious</td>\n",
       "      <td>28/02/2022</td>\n",
       "      <td>57.575210</td>\n",
       "      <td>Daylight</td>\n",
       "      <td>Highland</td>\n",
       "      <td>-3.895673</td>\n",
       "      <td>1</td>\n",
       "      <td>1</td>\n",
       "      <td>Wet or damp</td>\n",
       "      <td>Dual carriageway</td>\n",
       "      <td>Rural</td>\n",
       "      <td>Snowing no high winds</td>\n",
       "      <td>Car</td>\n",
       "    </tr>\n",
       "  </tbody>\n",
       "</table>\n",
       "<p>660679 rows × 14 columns</p>\n",
       "</div>"
      ],
      "text/plain": [
       "                Index Accident_Severity Accident Date   Latitude  \\\n",
       "0       200701BS64157           Serious    05/06/2019  51.506187   \n",
       "1       200701BS65737           Serious    02/07/2019  51.495029   \n",
       "2       200701BS66127           Serious    26/08/2019  51.517715   \n",
       "3       200701BS66128           Serious    16/08/2019  51.495478   \n",
       "4       200701BS66837            Slight    03/09/2019  51.488576   \n",
       "...               ...               ...           ...        ...   \n",
       "660674  201091NM01760            Slight    18/02/2022  57.374005   \n",
       "660675  201091NM01881            Slight    21/02/2022  57.232273   \n",
       "660676  201091NM01935            Slight    23/02/2022  57.585044   \n",
       "660677  201091NM01964           Serious    23/02/2022  57.214898   \n",
       "660678  201091NM02142           Serious    28/02/2022  57.575210   \n",
       "\n",
       "                   Light_Conditions           District Area  Longitude  \\\n",
       "0             Darkness - lights lit  Kensington and Chelsea  -0.209082   \n",
       "1                          Daylight  Kensington and Chelsea  -0.173647   \n",
       "2       Darkness - lighting unknown  Kensington and Chelsea  -0.210215   \n",
       "3                          Daylight  Kensington and Chelsea  -0.202731   \n",
       "4             Darkness - lights lit  Kensington and Chelsea  -0.192487   \n",
       "...                             ...                     ...        ...   \n",
       "660674                     Daylight                Highland  -3.467828   \n",
       "660675       Darkness - no lighting                Highland  -3.809281   \n",
       "660676                     Daylight                Highland  -3.862727   \n",
       "660677       Darkness - no lighting                Highland  -3.823997   \n",
       "660678                     Daylight                Highland  -3.895673   \n",
       "\n",
       "        Number_of_Casualties  Number_of_Vehicles Road_Surface_Conditions  \\\n",
       "0                          1                   2                     Dry   \n",
       "1                          1                   2             Wet or damp   \n",
       "2                          1                   3                     Dry   \n",
       "3                          1                   4                     Dry   \n",
       "4                          1                   2                     Dry   \n",
       "...                      ...                 ...                     ...   \n",
       "660674                     2                   1                     Dry   \n",
       "660675                     1                   1            Frost or ice   \n",
       "660676                     1                   3            Frost or ice   \n",
       "660677                     1                   2             Wet or damp   \n",
       "660678                     1                   1             Wet or damp   \n",
       "\n",
       "                 Road_Type Urban_or_Rural_Area     Weather_Conditions  \\\n",
       "0       Single carriageway               Urban     Fine no high winds   \n",
       "1       Single carriageway               Urban  Raining no high winds   \n",
       "2       Single carriageway               Urban     Fine no high winds   \n",
       "3       Single carriageway               Urban     Fine no high winds   \n",
       "4       Single carriageway               Urban     Fine no high winds   \n",
       "...                    ...                 ...                    ...   \n",
       "660674  Single carriageway               Rural     Fine no high winds   \n",
       "660675  Single carriageway               Rural     Fine no high winds   \n",
       "660676  Single carriageway               Rural     Fine no high winds   \n",
       "660677  Single carriageway               Rural     Fine no high winds   \n",
       "660678    Dual carriageway               Rural  Snowing no high winds   \n",
       "\n",
       "                                Vehicle_Type  \n",
       "0                                        Car  \n",
       "1                                        Car  \n",
       "2                      Taxi/Private hire car  \n",
       "3       Bus or coach (17 or more pass seats)  \n",
       "4                              Other vehicle  \n",
       "...                                      ...  \n",
       "660674                                   Car  \n",
       "660675                                   Car  \n",
       "660676                                   Car  \n",
       "660677                 Motorcycle over 500cc  \n",
       "660678                                   Car  \n",
       "\n",
       "[660679 rows x 14 columns]"
      ]
     },
     "execution_count": 25,
     "metadata": {},
     "output_type": "execute_result"
    }
   ],
   "source": [
    "df"
   ]
  },
  {
   "cell_type": "code",
   "execution_count": 7,
   "id": "5f6f440b-3fd7-426c-a752-bca679a7991f",
   "metadata": {},
   "outputs": [
    {
     "data": {
      "text/html": [
       "<div>\n",
       "<style scoped>\n",
       "    .dataframe tbody tr th:only-of-type {\n",
       "        vertical-align: middle;\n",
       "    }\n",
       "\n",
       "    .dataframe tbody tr th {\n",
       "        vertical-align: top;\n",
       "    }\n",
       "\n",
       "    .dataframe thead th {\n",
       "        text-align: right;\n",
       "    }\n",
       "</style>\n",
       "<table border=\"1\" class=\"dataframe\">\n",
       "  <thead>\n",
       "    <tr style=\"text-align: right;\">\n",
       "      <th></th>\n",
       "      <th>count</th>\n",
       "      <th>mean</th>\n",
       "      <th>std</th>\n",
       "      <th>min</th>\n",
       "      <th>25%</th>\n",
       "      <th>50%</th>\n",
       "      <th>75%</th>\n",
       "      <th>max</th>\n",
       "    </tr>\n",
       "  </thead>\n",
       "  <tbody>\n",
       "    <tr>\n",
       "      <th>Latitude</th>\n",
       "      <td>660654.0</td>\n",
       "      <td>52.553866</td>\n",
       "      <td>1.406922</td>\n",
       "      <td>49.914430</td>\n",
       "      <td>51.490690</td>\n",
       "      <td>52.315641</td>\n",
       "      <td>53.453452</td>\n",
       "      <td>60.757544</td>\n",
       "    </tr>\n",
       "    <tr>\n",
       "      <th>Longitude</th>\n",
       "      <td>660653.0</td>\n",
       "      <td>-1.431210</td>\n",
       "      <td>1.383330</td>\n",
       "      <td>-7.516225</td>\n",
       "      <td>-2.332291</td>\n",
       "      <td>-1.411667</td>\n",
       "      <td>-0.232869</td>\n",
       "      <td>1.762010</td>\n",
       "    </tr>\n",
       "    <tr>\n",
       "      <th>Number_of_Casualties</th>\n",
       "      <td>660679.0</td>\n",
       "      <td>1.357040</td>\n",
       "      <td>0.824847</td>\n",
       "      <td>1.000000</td>\n",
       "      <td>1.000000</td>\n",
       "      <td>1.000000</td>\n",
       "      <td>1.000000</td>\n",
       "      <td>68.000000</td>\n",
       "    </tr>\n",
       "    <tr>\n",
       "      <th>Number_of_Vehicles</th>\n",
       "      <td>660679.0</td>\n",
       "      <td>1.831255</td>\n",
       "      <td>0.715269</td>\n",
       "      <td>1.000000</td>\n",
       "      <td>1.000000</td>\n",
       "      <td>2.000000</td>\n",
       "      <td>2.000000</td>\n",
       "      <td>32.000000</td>\n",
       "    </tr>\n",
       "  </tbody>\n",
       "</table>\n",
       "</div>"
      ],
      "text/plain": [
       "                         count       mean       std        min        25%  \\\n",
       "Latitude              660654.0  52.553866  1.406922  49.914430  51.490690   \n",
       "Longitude             660653.0  -1.431210  1.383330  -7.516225  -2.332291   \n",
       "Number_of_Casualties  660679.0   1.357040  0.824847   1.000000   1.000000   \n",
       "Number_of_Vehicles    660679.0   1.831255  0.715269   1.000000   1.000000   \n",
       "\n",
       "                            50%        75%        max  \n",
       "Latitude              52.315641  53.453452  60.757544  \n",
       "Longitude             -1.411667  -0.232869   1.762010  \n",
       "Number_of_Casualties   1.000000   1.000000  68.000000  \n",
       "Number_of_Vehicles     2.000000   2.000000  32.000000  "
      ]
     },
     "execution_count": 7,
     "metadata": {},
     "output_type": "execute_result"
    }
   ],
   "source": [
    "df.describe().T"
   ]
  },
  {
   "cell_type": "code",
   "execution_count": 8,
   "id": "cb1ad00e-861a-44b2-99ca-be39b906828f",
   "metadata": {},
   "outputs": [
    {
     "data": {
      "text/plain": [
       "Index                          0\n",
       "Accident_Severity              0\n",
       "Accident Date                  0\n",
       "Latitude                      25\n",
       "Light_Conditions               0\n",
       "District Area                  0\n",
       "Longitude                     26\n",
       "Number_of_Casualties           0\n",
       "Number_of_Vehicles             0\n",
       "Road_Surface_Conditions      726\n",
       "Road_Type                   4520\n",
       "Urban_or_Rural_Area           15\n",
       "Weather_Conditions         14128\n",
       "Vehicle_Type                   0\n",
       "dtype: int64"
      ]
     },
     "execution_count": 8,
     "metadata": {},
     "output_type": "execute_result"
    }
   ],
   "source": [
    "df.isnull().sum()"
   ]
  },
  {
   "cell_type": "code",
   "execution_count": 13,
   "id": "c5545154-ac07-4148-8c6a-e21d4089882a",
   "metadata": {},
   "outputs": [],
   "source": [
    "df['Latitude']=df['Latitude'].fillna(df['Latitude'].mean())\n",
    "df['Longitude']=df['Longitude'].fillna(df['Longitude'].mean())\n",
    "df['Road_Surface_Conditions']=df['Road_Surface_Conditions'].fillna(df['Road_Surface_Conditions'].mode()[0])\n",
    "df['Road_Type']=df['Road_Type'].fillna(df['Road_Type'].mode()[0])\n",
    "df['Urban_or_Rural_Area']=df['Urban_or_Rural_Area'].fillna(df['Urban_or_Rural_Area'].mode()[0])\n",
    "df['Weather_Conditions']=df['Weather_Conditions'].fillna(df['Weather_Conditions'].mode()[0])"
   ]
  },
  {
   "cell_type": "code",
   "execution_count": 14,
   "id": "802f757e-02a6-4f28-9c38-a01c650c4e57",
   "metadata": {},
   "outputs": [
    {
     "data": {
      "text/plain": [
       "Index                      0\n",
       "Accident_Severity          0\n",
       "Accident Date              0\n",
       "Latitude                   0\n",
       "Light_Conditions           0\n",
       "District Area              0\n",
       "Longitude                  0\n",
       "Number_of_Casualties       0\n",
       "Number_of_Vehicles         0\n",
       "Road_Surface_Conditions    0\n",
       "Road_Type                  0\n",
       "Urban_or_Rural_Area        0\n",
       "Weather_Conditions         0\n",
       "Vehicle_Type               0\n",
       "dtype: int64"
      ]
     },
     "execution_count": 14,
     "metadata": {},
     "output_type": "execute_result"
    }
   ],
   "source": [
    "df.isnull().sum()"
   ]
  },
  {
   "cell_type": "code",
   "execution_count": 17,
   "id": "ed23d445-3243-47f8-88c2-51e4fb04862e",
   "metadata": {},
   "outputs": [
    {
     "name": "stdout",
     "output_type": "stream",
     "text": [
      "<class 'pandas.core.frame.DataFrame'>\n",
      "RangeIndex: 660679 entries, 0 to 660678\n",
      "Data columns (total 14 columns):\n",
      " #   Column                   Non-Null Count   Dtype   \n",
      "---  ------                   --------------   -----   \n",
      " 0   Index                    660679 non-null  category\n",
      " 1   Accident_Severity        660679 non-null  object  \n",
      " 2   Accident Date            660679 non-null  object  \n",
      " 3   Latitude                 660679 non-null  float64 \n",
      " 4   Light_Conditions         660679 non-null  object  \n",
      " 5   District Area            660679 non-null  object  \n",
      " 6   Longitude                660679 non-null  float64 \n",
      " 7   Number_of_Casualties     660679 non-null  int64   \n",
      " 8   Number_of_Vehicles       660679 non-null  int64   \n",
      " 9   Road_Surface_Conditions  660679 non-null  object  \n",
      " 10  Road_Type                660679 non-null  object  \n",
      " 11  Urban_or_Rural_Area      660679 non-null  object  \n",
      " 12  Weather_Conditions       660679 non-null  object  \n",
      " 13  Vehicle_Type             660679 non-null  object  \n",
      "dtypes: category(1), float64(2), int64(2), object(9)\n",
      "memory usage: 87.4+ MB\n"
     ]
    }
   ],
   "source": [
    "df.info()"
   ]
  },
  {
   "cell_type": "code",
   "execution_count": 18,
   "id": "bf5b7fcd-98c7-4244-9df7-dc36774fa48a",
   "metadata": {},
   "outputs": [],
   "source": [
    "df['Index']=df['Index'].astype('category')\n",
    "df['Accident_Severity']=df['Accident_Severity'].astype('category')\n",
    "df['Light_Conditions']=df['Light_Conditions'].astype('category')\n",
    "df['District Area']=df['District Area'].astype('category')\n",
    "df['Road_Surface_Conditions']=df['Road_Surface_Conditions'].astype('category')\n",
    "df['Road_Type']=df['Road_Type'].astype('category')\n",
    "df['Urban_or_Rural_Area']=df['Urban_or_Rural_Area'].astype('category')\n",
    "df['Weather_Conditions']=df['Weather_Conditions'].astype('category')\n",
    "df['Vehicle_Type']=df['Vehicle_Type'].astype('category')"
   ]
  },
  {
   "cell_type": "code",
   "execution_count": 41,
   "id": "2b8d0c85-ebfc-4782-a61a-f4346a9cfba4",
   "metadata": {},
   "outputs": [
    {
     "name": "stdout",
     "output_type": "stream",
     "text": [
      "<class 'pandas.core.frame.DataFrame'>\n",
      "RangeIndex: 660679 entries, 0 to 660678\n",
      "Data columns (total 15 columns):\n",
      " #   Column                   Non-Null Count   Dtype   \n",
      "---  ------                   --------------   -----   \n",
      " 0   Index                    660679 non-null  category\n",
      " 1   Accident_Severity        660679 non-null  category\n",
      " 2   Accident Date            660679 non-null  object  \n",
      " 3   Latitude                 660679 non-null  float64 \n",
      " 4   Light_Conditions         660679 non-null  category\n",
      " 5   District Area            660679 non-null  category\n",
      " 6   Longitude                660679 non-null  float64 \n",
      " 7   Number_of_Casualties     660679 non-null  int64   \n",
      " 8   Number_of_Vehicles       660679 non-null  int64   \n",
      " 9   Road_Surface_Conditions  660679 non-null  category\n",
      " 10  Road_Type                660679 non-null  category\n",
      " 11  Urban_or_Rural_Area      660679 non-null  category\n",
      " 12  Weather_Conditions       660679 non-null  category\n",
      " 13  Vehicle_Type             660679 non-null  category\n",
      " 14  Severity_Label           0 non-null       float64 \n",
      "dtypes: category(9), float64(3), int64(2), object(1)\n",
      "memory usage: 57.8+ MB\n"
     ]
    }
   ],
   "source": [
    "df.info()"
   ]
  },
  {
   "cell_type": "markdown",
   "id": "096d0f59-23d4-4317-8f1d-25d74a368821",
   "metadata": {},
   "source": [
    "<h1>Question1: What proportion of accidents are fatal, serious, or slight?</h1>\n",
    "<hr>"
   ]
  },
  {
   "cell_type": "code",
   "execution_count": 5,
   "id": "637522ba-19dc-4b1a-99bf-5c53c4e4ee03",
   "metadata": {},
   "outputs": [],
   "source": [
    "severity_counts = df['Accident_Severity'].value_counts(normalize=True) * 100"
   ]
  },
  {
   "cell_type": "code",
   "execution_count": 6,
   "id": "5f109896-b663-44e6-8656-140575a9fa26",
   "metadata": {},
   "outputs": [
    {
     "data": {
      "text/plain": [
       "Accident_Severity\n",
       "Slight     85.336601\n",
       "Serious    13.352475\n",
       "Fatal       1.310924\n",
       "Name: proportion, dtype: float64"
      ]
     },
     "execution_count": 6,
     "metadata": {},
     "output_type": "execute_result"
    }
   ],
   "source": [
    "severity_counts"
   ]
  },
  {
   "cell_type": "markdown",
   "id": "a644a124-db24-4986-bdbc-3b9c3ddbf4d9",
   "metadata": {},
   "source": [
    "<h3>INSIGHT: Fatal accidents are 1.310924, serious around 13.352475, and slight accidents 85.336601. This reflects how most collisions occur at low speeds in urban settings. </h3>\n",
    "<hr>"
   ]
  },
  {
   "cell_type": "markdown",
   "id": "56148e06-0b6b-4bcb-b231-7865849c7db2",
   "metadata": {},
   "source": [
    "<h1>Question2: Which regions (urban vs rural) have the highest accidents?</h1>\n",
    "<hr>"
   ]
  },
  {
   "cell_type": "code",
   "execution_count": 23,
   "id": "b17a9f66-24a1-4a55-97ef-50672ae98995",
   "metadata": {},
   "outputs": [],
   "source": [
    "regions = df['Urban_or_Rural_Area'].value_counts()"
   ]
  },
  {
   "cell_type": "code",
   "execution_count": 24,
   "id": "0663dfdd-9f6d-4451-8287-f244fbd433ac",
   "metadata": {},
   "outputs": [
    {
     "data": {
      "text/plain": [
       "Urban_or_Rural_Area\n",
       "Urban          421678\n",
       "Rural          238990\n",
       "Unallocated        11\n",
       "Name: count, dtype: int64"
      ]
     },
     "execution_count": 24,
     "metadata": {},
     "output_type": "execute_result"
    }
   ],
   "source": [
    "regions"
   ]
  },
  {
   "cell_type": "markdown",
   "id": "e4fea985-42e9-461f-83c3-88f5b325899f",
   "metadata": {},
   "source": [
    "<h3>INSIGHT: Urban happens to have the highest accidents with 421678, while Rural has 238990.</h3>\n",
    "<hr>"
   ]
  },
  {
   "cell_type": "markdown",
   "id": "af9ff97f-978f-4b38-a2ad-5e68e46ff795",
   "metadata": {},
   "source": [
    "<h1>Question3: Which regions (urban vs rural) have the highest fatal accident rates?</h1>\n",
    "<hr>"
   ]
  },
  {
   "cell_type": "code",
   "execution_count": 21,
   "id": "b90ce46e-55f1-4107-8f0f-df1d41870328",
   "metadata": {},
   "outputs": [],
   "source": [
    "regions_fatal = df[df['Accident_Severity'] == 'Fatal']['Urban_or_Rural_Area'].value_counts()"
   ]
  },
  {
   "cell_type": "code",
   "execution_count": 22,
   "id": "944664d1-629c-4a86-9181-ce10a333b958",
   "metadata": {},
   "outputs": [
    {
     "data": {
      "text/plain": [
       "Urban_or_Rural_Area\n",
       "Rural          5601\n",
       "Urban          3060\n",
       "Unallocated       0\n",
       "Name: count, dtype: int64"
      ]
     },
     "execution_count": 22,
     "metadata": {},
     "output_type": "execute_result"
    }
   ],
   "source": [
    "regions_fatal"
   ]
  },
  {
   "cell_type": "markdown",
   "id": "57c5aab1-96cd-4e6c-9a71-7d79dc7b8233",
   "metadata": {},
   "source": [
    "<h3> INSIGHT: Rural roads often have fewer accidents but a higher share of fatalities with 5601. High-speed collisions and delayed emergency response times increase severity outside cities.</h3>\n",
    "<hr>"
   ]
  },
  {
   "cell_type": "markdown",
   "id": "f7ab06cd-48d9-46c0-be1f-a8d60a07be33",
   "metadata": {},
   "source": [
    "<h1>Question4: Which month has the highest accident frequency?</h1>\n",
    "<hr>"
   ]
  },
  {
   "cell_type": "code",
   "execution_count": 42,
   "id": "79642ee3-d547-47a0-8e7a-b5a66769defa",
   "metadata": {},
   "outputs": [],
   "source": [
    "df[\"Accident Date\"] = pd.to_datetime(df[\"Accident Date\"], errors=\"coerce\")"
   ]
  },
  {
   "cell_type": "code",
   "execution_count": 43,
   "id": "281005da-37f7-41a3-b2cf-39f8410984e9",
   "metadata": {},
   "outputs": [],
   "source": [
    "df[\"Month\"] = df[\"Accident Date\"].dt.month\n",
    "df[\"Month_Name\"] = df[\"Accident Date\"].dt.month_name()"
   ]
  },
  {
   "cell_type": "code",
   "execution_count": 44,
   "id": "71fb0f50-79e7-470d-b002-32bceb261661",
   "metadata": {},
   "outputs": [],
   "source": [
    "accidents_by_month = df[\"Month_Name\"].value_counts().reindex(\n",
    "    [\"January\",\"February\",\"March\",\"April\",\"May\",\"June\",\n",
    "     \"July\",\"August\",\"September\",\"October\",\"November\",\"December\"]\n",
    ")"
   ]
  },
  {
   "cell_type": "code",
   "execution_count": 45,
   "id": "dc77a8b9-1cbd-422f-b6bf-8f82bba29a50",
   "metadata": {},
   "outputs": [
    {
     "data": {
      "text/plain": [
       "Month_Name\n",
       "January      22606\n",
       "February     21815\n",
       "March        21540\n",
       "April        21699\n",
       "May          22409\n",
       "June         21974\n",
       "July         21431\n",
       "August       21914\n",
       "September    22252\n",
       "October      22328\n",
       "November     22503\n",
       "December     22536\n",
       "Name: count, dtype: int64"
      ]
     },
     "execution_count": 45,
     "metadata": {},
     "output_type": "execute_result"
    }
   ],
   "source": [
    "accidents_by_month"
   ]
  },
  {
   "cell_type": "markdown",
   "id": "287f0d10-186d-4b38-94be-d2cfbe9e5034",
   "metadata": {},
   "source": [
    "<h3>INSIGHT: Accident totals usually peak in January. Summer often sees more accidents due to higher travel volumes. Winter may reduce total accidents but increase severity from ice.</h3>\n",
    "<hr>"
   ]
  },
  {
   "cell_type": "markdown",
   "id": "1905f08f-7f1a-4b36-bfe0-84fc97e1b49a",
   "metadata": {},
   "source": [
    "<h1>Question5: How many accidents occur per year?</h1>\n",
    "<hr>"
   ]
  },
  {
   "cell_type": "code",
   "execution_count": 51,
   "id": "a6fe442a-57ab-4e29-bdbf-98ccddd53e53",
   "metadata": {},
   "outputs": [
    {
     "data": {
      "text/plain": [
       "Accident Date\n",
       "2019.0    71867\n",
       "2020.0    70163\n",
       "2021.0    66172\n",
       "2022.0    56805\n",
       "Name: count, dtype: int64"
      ]
     },
     "execution_count": 51,
     "metadata": {},
     "output_type": "execute_result"
    }
   ],
   "source": [
    "df['Accident Date'] = pd.to_datetime(df['Accident Date'])\n",
    "accidents_per_year = df['Accident Date'].dt.year.value_counts().sort_index()\n",
    "accidents_per_year"
   ]
  },
  {
   "cell_type": "markdown",
   "id": "d96369ed-6f0b-47d8-8397-ea97412419c9",
   "metadata": {},
   "source": [
    "<h3>INSIGHT: In 2019 the number of accidents reach 71867.However, The number of accidents are varies from year to year. These fluctuations can reflect broader factors such as road safety campaigns, traffic enforcement intensity, or overall changes in travel behavior.</h3>\n",
    "<hr>"
   ]
  },
  {
   "cell_type": "markdown",
   "id": "f2328389-453e-45be-b248-a8a0bec04d7b",
   "metadata": {},
   "source": [
    "<h1>Question6: What Light Condition or time of day has the most accidents?</h1>\n",
    "<hr>"
   ]
  },
  {
   "cell_type": "code",
   "execution_count": 48,
   "id": "90781068-e0c2-41f9-a330-9d41c292a3ce",
   "metadata": {},
   "outputs": [
    {
     "data": {
      "text/plain": [
       "Light_Conditions\n",
       "Daylight                       484880\n",
       "Darkness - lights lit          129335\n",
       "Darkness - no lighting          37437\n",
       "Darkness - lighting unknown      6484\n",
       "Darkness - lights unlit          2543\n",
       "Name: count, dtype: int64"
      ]
     },
     "execution_count": 48,
     "metadata": {},
     "output_type": "execute_result"
    }
   ],
   "source": [
    "df['Light_Conditions'].value_counts()"
   ]
  },
  {
   "cell_type": "markdown",
   "id": "7c60cc76-e636-4545-a36d-afb8cb3941d9",
   "metadata": {},
   "source": [
    "<h3>INSIGHT:Daylight has 484880 which is the most accidents.Rush hours (morning and evening) see spikes in crashes However, late-night accidents are more likely to be severe.</h3>\n",
    "<hr>"
   ]
  },
  {
   "cell_type": "markdown",
   "id": "73c8b530-d3a2-497d-b03f-ff12ebdeeef9",
   "metadata": {},
   "source": [
    "<h1>Question7: Which road types see the most accidents?</h1>\n",
    "<hr>"
   ]
  },
  {
   "cell_type": "code",
   "execution_count": 52,
   "id": "4e8cedb6-7ca8-4004-959a-1b7533031f89",
   "metadata": {},
   "outputs": [
    {
     "data": {
      "text/plain": [
       "Road_Type\n",
       "Single carriageway    496663\n",
       "Dual carriageway       99424\n",
       "Roundabout             43992\n",
       "One way street         13559\n",
       "Slip road               7041\n",
       "Name: count, dtype: int64"
      ]
     },
     "execution_count": 52,
     "metadata": {},
     "output_type": "execute_result"
    }
   ],
   "source": [
    "road_type_counts = df['Road_Type'].value_counts()\n",
    "road_type_counts"
   ]
  },
  {
   "cell_type": "markdown",
   "id": "2c3e4b11-d884-47f8-8798-ba65489019e7",
   "metadata": {},
   "source": [
    "<h3>INSIGHT: Single carriageways record the most accidents with 496663, as they carry high volumes of everyday traffic but lack the safety measures found on motorways and dual carriageways.</h3><hr>"
   ]
  },
  {
   "cell_type": "markdown",
   "id": "3bb1f06e-5123-4121-a779-dd10392cc28f",
   "metadata": {},
   "source": [
    "<h1>Question8: How does weather condition affect accident frequency?</h1>\n",
    "<hr>"
   ]
  },
  {
   "cell_type": "code",
   "execution_count": 54,
   "id": "da39529c-28a1-4fde-9a1c-d9e8fb310b85",
   "metadata": {},
   "outputs": [
    {
     "data": {
      "text/plain": [
       "Weather_Conditions\n",
       "Fine no high winds       535013\n",
       "Raining no high winds     79696\n",
       "Other                     17150\n",
       "Raining + high winds       9615\n",
       "Fine + high winds          8554\n",
       "Snowing no high winds      6238\n",
       "Fog or mist                3528\n",
       "Snowing + high winds        885\n",
       "Name: count, dtype: int64"
      ]
     },
     "execution_count": 54,
     "metadata": {},
     "output_type": "execute_result"
    }
   ],
   "source": [
    "weather_counts = df['Weather_Conditions'].value_counts()\n",
    "weather_counts"
   ]
  },
  {
   "cell_type": "markdown",
   "id": "19561332-24f2-465f-8b5c-870269ccfaf2",
   "metadata": {},
   "source": [
    "<h3>INSIGHT: Most accidents happen in fine weather conditions, not during storms or fog. This shows that risk is often happened during traffic exposure more cars on the road in good weather rather than just dangerous weather itself.</h3>"
   ]
  },
  {
   "cell_type": "markdown",
   "id": "c03a8b6d-70bf-4193-b814-60acb03cfa4f",
   "metadata": {},
   "source": [
    "<h1>Question9: How does road surface condition affect accident severity?</h1>\n",
    "<hr>"
   ]
  },
  {
   "cell_type": "code",
   "execution_count": 56,
   "id": "7185f821-8162-4de2-aa28-f9333c2528f3",
   "metadata": {},
   "outputs": [
    {
     "data": {
      "text/html": [
       "<div>\n",
       "<style scoped>\n",
       "    .dataframe tbody tr th:only-of-type {\n",
       "        vertical-align: middle;\n",
       "    }\n",
       "\n",
       "    .dataframe tbody tr th {\n",
       "        vertical-align: top;\n",
       "    }\n",
       "\n",
       "    .dataframe thead th {\n",
       "        text-align: right;\n",
       "    }\n",
       "</style>\n",
       "<table border=\"1\" class=\"dataframe\">\n",
       "  <thead>\n",
       "    <tr style=\"text-align: right;\">\n",
       "      <th>Accident_Severity</th>\n",
       "      <th>Fatal</th>\n",
       "      <th>Serious</th>\n",
       "      <th>Slight</th>\n",
       "    </tr>\n",
       "    <tr>\n",
       "      <th>Road_Surface_Conditions</th>\n",
       "      <th></th>\n",
       "      <th></th>\n",
       "      <th></th>\n",
       "    </tr>\n",
       "  </thead>\n",
       "  <tbody>\n",
       "    <tr>\n",
       "      <th>Dry</th>\n",
       "      <td>5790</td>\n",
       "      <td>61708</td>\n",
       "      <td>381049</td>\n",
       "    </tr>\n",
       "    <tr>\n",
       "      <th>Flood over 3cm. deep</th>\n",
       "      <td>23</td>\n",
       "      <td>152</td>\n",
       "      <td>842</td>\n",
       "    </tr>\n",
       "    <tr>\n",
       "      <th>Frost or ice</th>\n",
       "      <td>193</td>\n",
       "      <td>2007</td>\n",
       "      <td>16317</td>\n",
       "    </tr>\n",
       "    <tr>\n",
       "      <th>Snow</th>\n",
       "      <td>35</td>\n",
       "      <td>565</td>\n",
       "      <td>5290</td>\n",
       "    </tr>\n",
       "    <tr>\n",
       "      <th>Wet or damp</th>\n",
       "      <td>2620</td>\n",
       "      <td>23785</td>\n",
       "      <td>160303</td>\n",
       "    </tr>\n",
       "  </tbody>\n",
       "</table>\n",
       "</div>"
      ],
      "text/plain": [
       "Accident_Severity        Fatal  Serious  Slight\n",
       "Road_Surface_Conditions                        \n",
       "Dry                       5790    61708  381049\n",
       "Flood over 3cm. deep        23      152     842\n",
       "Frost or ice               193     2007   16317\n",
       "Snow                        35      565    5290\n",
       "Wet or damp               2620    23785  160303"
      ]
     },
     "execution_count": 56,
     "metadata": {},
     "output_type": "execute_result"
    }
   ],
   "source": [
    "severity_by_surface = df.groupby(['Road_Surface_Conditions','Accident_Severity']).size().unstack(fill_value=0)\n",
    "severity_by_surface"
   ]
  },
  {
   "cell_type": "markdown",
   "id": "a515fde0-fb7a-43ba-8912-5cd1f729b75b",
   "metadata": {},
   "source": [
    "<h3>INSIGHT: Dry roads show the most accidents overall, since most driving happens in those conditions.</h3>"
   ]
  },
  {
   "cell_type": "markdown",
   "id": "d8469b3e-816d-4c0c-b1b2-e70e803ea190",
   "metadata": {},
   "source": [
    "<h1>Question10: What is the distribution of number of vehicles involved in accidents?</h1>\n",
    "<hr>"
   ]
  },
  {
   "cell_type": "code",
   "execution_count": 58,
   "id": "5a0aa7d7-b3d7-4121-8a2a-87ae1a4ebab7",
   "metadata": {},
   "outputs": [
    {
     "data": {
      "text/plain": [
       "Number_of_Vehicles\n",
       "1     200787\n",
       "2     391995\n",
       "3      52806\n",
       "4      11300\n",
       "5       2464\n",
       "6        758\n",
       "7        296\n",
       "8        147\n",
       "9         57\n",
       "10        27\n",
       "11        12\n",
       "12         7\n",
       "13         6\n",
       "14         9\n",
       "15         1\n",
       "16         4\n",
       "19         1\n",
       "28         1\n",
       "32         1\n",
       "Name: count, dtype: int64"
      ]
     },
     "execution_count": 58,
     "metadata": {},
     "output_type": "execute_result"
    }
   ],
   "source": [
    "vehicle_counts = df['Number_of_Vehicles'].value_counts().sort_index()\n",
    "vehicle_counts"
   ]
  },
  {
   "cell_type": "markdown",
   "id": "869d053d-a4f6-486a-8c0f-dd05068b880b",
   "metadata": {},
   "source": [
    "<h3>INSIGHT: Most accidents involve just two vehicles, reflecting common collisions like rear-ends or side impacts. Single-vehicle crashes occur less often but are more likely to be severe.</h3>"
   ]
  },
  {
   "cell_type": "markdown",
   "id": "48162b97-90be-4db4-8176-171972ec0008",
   "metadata": {},
   "source": [
    "<h1>Question11: What is the average number of casualties per accident by severity?</h1>\n",
    "<hr>"
   ]
  },
  {
   "cell_type": "code",
   "execution_count": 59,
   "id": "f4e93639-ebfa-437a-b3bb-7932bacafb45",
   "metadata": {},
   "outputs": [
    {
     "data": {
      "text/plain": [
       "Accident_Severity\n",
       "Fatal      1.903129\n",
       "Serious    1.467280\n",
       "Slight     1.331402\n",
       "Name: Number_of_Casualties, dtype: float64"
      ]
     },
     "execution_count": 59,
     "metadata": {},
     "output_type": "execute_result"
    }
   ],
   "source": [
    "avg_casualties = df.groupby('Accident_Severity')['Number_of_Casualties'].mean()\n",
    "avg_casualties"
   ]
  },
  {
   "cell_type": "markdown",
   "id": "9a8ad62f-3971-47d8-930e-7249bcfd5b34",
   "metadata": {},
   "source": [
    "<h3>INSIGHT: Fatal and serious accidents have a higher average number of casualties than slight accidents. This shows that when collisions are more severe, they often impact multiple people.</h3>"
   ]
  },
  {
   "cell_type": "markdown",
   "id": "1af9c40e-a893-4a21-bc25-366e012d1e89",
   "metadata": {},
   "source": [
    "<h1>Question12: How does the number of vehicles involved impact accident severity?</h1><hr>"
   ]
  },
  {
   "cell_type": "code",
   "execution_count": 61,
   "id": "9c2bfc02-145f-4b35-baf6-410f063a2e41",
   "metadata": {},
   "outputs": [
    {
     "data": {
      "text/html": [
       "<div>\n",
       "<style scoped>\n",
       "    .dataframe tbody tr th:only-of-type {\n",
       "        vertical-align: middle;\n",
       "    }\n",
       "\n",
       "    .dataframe tbody tr th {\n",
       "        vertical-align: top;\n",
       "    }\n",
       "\n",
       "    .dataframe thead th {\n",
       "        text-align: right;\n",
       "    }\n",
       "</style>\n",
       "<table border=\"1\" class=\"dataframe\">\n",
       "  <thead>\n",
       "    <tr style=\"text-align: right;\">\n",
       "      <th>Accident_Severity</th>\n",
       "      <th>Fatal</th>\n",
       "      <th>Serious</th>\n",
       "      <th>Slight</th>\n",
       "    </tr>\n",
       "    <tr>\n",
       "      <th>Number_of_Vehicles</th>\n",
       "      <th></th>\n",
       "      <th></th>\n",
       "      <th></th>\n",
       "    </tr>\n",
       "  </thead>\n",
       "  <tbody>\n",
       "    <tr>\n",
       "      <th>1</th>\n",
       "      <td>0.019349</td>\n",
       "      <td>0.193937</td>\n",
       "      <td>0.786714</td>\n",
       "    </tr>\n",
       "    <tr>\n",
       "      <th>2</th>\n",
       "      <td>0.008845</td>\n",
       "      <td>0.106068</td>\n",
       "      <td>0.885088</td>\n",
       "    </tr>\n",
       "    <tr>\n",
       "      <th>3</th>\n",
       "      <td>0.017044</td>\n",
       "      <td>0.109988</td>\n",
       "      <td>0.872969</td>\n",
       "    </tr>\n",
       "    <tr>\n",
       "      <th>4</th>\n",
       "      <td>0.024071</td>\n",
       "      <td>0.118584</td>\n",
       "      <td>0.857345</td>\n",
       "    </tr>\n",
       "    <tr>\n",
       "      <th>5</th>\n",
       "      <td>0.028409</td>\n",
       "      <td>0.132305</td>\n",
       "      <td>0.839286</td>\n",
       "    </tr>\n",
       "    <tr>\n",
       "      <th>6</th>\n",
       "      <td>0.036939</td>\n",
       "      <td>0.159631</td>\n",
       "      <td>0.803430</td>\n",
       "    </tr>\n",
       "    <tr>\n",
       "      <th>7</th>\n",
       "      <td>0.057432</td>\n",
       "      <td>0.212838</td>\n",
       "      <td>0.729730</td>\n",
       "    </tr>\n",
       "    <tr>\n",
       "      <th>8</th>\n",
       "      <td>0.081633</td>\n",
       "      <td>0.170068</td>\n",
       "      <td>0.748299</td>\n",
       "    </tr>\n",
       "    <tr>\n",
       "      <th>9</th>\n",
       "      <td>0.017544</td>\n",
       "      <td>0.087719</td>\n",
       "      <td>0.894737</td>\n",
       "    </tr>\n",
       "    <tr>\n",
       "      <th>10</th>\n",
       "      <td>0.074074</td>\n",
       "      <td>0.185185</td>\n",
       "      <td>0.740741</td>\n",
       "    </tr>\n",
       "    <tr>\n",
       "      <th>11</th>\n",
       "      <td>0.166667</td>\n",
       "      <td>0.000000</td>\n",
       "      <td>0.833333</td>\n",
       "    </tr>\n",
       "    <tr>\n",
       "      <th>12</th>\n",
       "      <td>0.000000</td>\n",
       "      <td>0.285714</td>\n",
       "      <td>0.714286</td>\n",
       "    </tr>\n",
       "    <tr>\n",
       "      <th>13</th>\n",
       "      <td>0.000000</td>\n",
       "      <td>0.333333</td>\n",
       "      <td>0.666667</td>\n",
       "    </tr>\n",
       "    <tr>\n",
       "      <th>14</th>\n",
       "      <td>0.333333</td>\n",
       "      <td>0.000000</td>\n",
       "      <td>0.666667</td>\n",
       "    </tr>\n",
       "    <tr>\n",
       "      <th>15</th>\n",
       "      <td>0.000000</td>\n",
       "      <td>0.000000</td>\n",
       "      <td>1.000000</td>\n",
       "    </tr>\n",
       "    <tr>\n",
       "      <th>16</th>\n",
       "      <td>0.250000</td>\n",
       "      <td>0.250000</td>\n",
       "      <td>0.500000</td>\n",
       "    </tr>\n",
       "    <tr>\n",
       "      <th>19</th>\n",
       "      <td>0.000000</td>\n",
       "      <td>1.000000</td>\n",
       "      <td>0.000000</td>\n",
       "    </tr>\n",
       "    <tr>\n",
       "      <th>28</th>\n",
       "      <td>1.000000</td>\n",
       "      <td>0.000000</td>\n",
       "      <td>0.000000</td>\n",
       "    </tr>\n",
       "    <tr>\n",
       "      <th>32</th>\n",
       "      <td>0.000000</td>\n",
       "      <td>0.000000</td>\n",
       "      <td>1.000000</td>\n",
       "    </tr>\n",
       "  </tbody>\n",
       "</table>\n",
       "</div>"
      ],
      "text/plain": [
       "Accident_Severity      Fatal   Serious    Slight\n",
       "Number_of_Vehicles                              \n",
       "1                   0.019349  0.193937  0.786714\n",
       "2                   0.008845  0.106068  0.885088\n",
       "3                   0.017044  0.109988  0.872969\n",
       "4                   0.024071  0.118584  0.857345\n",
       "5                   0.028409  0.132305  0.839286\n",
       "6                   0.036939  0.159631  0.803430\n",
       "7                   0.057432  0.212838  0.729730\n",
       "8                   0.081633  0.170068  0.748299\n",
       "9                   0.017544  0.087719  0.894737\n",
       "10                  0.074074  0.185185  0.740741\n",
       "11                  0.166667  0.000000  0.833333\n",
       "12                  0.000000  0.285714  0.714286\n",
       "13                  0.000000  0.333333  0.666667\n",
       "14                  0.333333  0.000000  0.666667\n",
       "15                  0.000000  0.000000  1.000000\n",
       "16                  0.250000  0.250000  0.500000\n",
       "19                  0.000000  1.000000  0.000000\n",
       "28                  1.000000  0.000000  0.000000\n",
       "32                  0.000000  0.000000  1.000000"
      ]
     },
     "execution_count": 61,
     "metadata": {},
     "output_type": "execute_result"
    }
   ],
   "source": [
    "severity_by_vehicles = df.groupby('Number_of_Vehicles')['Accident_Severity'].value_counts(normalize=True).unstack(fill_value=0)\n",
    "severity_by_vehicles"
   ]
  },
  {
   "cell_type": "markdown",
   "id": "4cc631af-d2d2-4088-b61b-5adab4a16841",
   "metadata": {},
   "source": [
    "<h3>INSIGHT: Single-vehicle crashes are more likely to be fatal compared to multi-vehicle accidents.Because of fast speed, while multiple vehicle are slight because of traffic.</h3><hr>"
   ]
  },
  {
   "cell_type": "markdown",
   "id": "e7324680-ada2-4130-9d79-7ea40d24144b",
   "metadata": {},
   "source": [
    "<h1>Question13: Do accidents increase during holidays (Christmas, New Year)?</h1><hr>"
   ]
  },
  {
   "cell_type": "code",
   "execution_count": 63,
   "id": "80375313-4767-4a47-b1a8-be6f7bfac011",
   "metadata": {},
   "outputs": [
    {
     "data": {
      "text/plain": [
       "Holiday_Period\n",
       "Non-Holiday    637031\n",
       "Holiday         23648\n",
       "Name: count, dtype: int64"
      ]
     },
     "execution_count": 63,
     "metadata": {},
     "output_type": "execute_result"
    }
   ],
   "source": [
    "df['Day'] = df['Accident Date'].dt.day\n",
    "df['Holiday_Period'] = df['Accident Date'].apply(\n",
    "    lambda x: 'Holiday' if (x.month == 12 and x.day >= 24) or (x.month == 12 and x.day <= 31) or (x.month == 1 and x.day <= 1) else 'Non-Holiday'\n",
    ")\n",
    "holiday_counts = df['Holiday_Period'].value_counts()\n",
    "holiday_counts"
   ]
  },
  {
   "cell_type": "markdown",
   "id": "d9c29f63-87b0-4ac3-931a-81a3f82b0c21",
   "metadata": {},
   "source": [
    "<h3>INSIGHT: There is a noticeable spike in accidents during the non-holiday period. Since people go to work and school which cause more riders/vehicle to actively travel</h3><hr>"
   ]
  },
  {
   "cell_type": "markdown",
   "id": "d2cf185c-9d66-4556-a452-87533e8c092c",
   "metadata": {},
   "source": [
    "<h1>Question14: What are the most common vehicle types involved in accidents?</h1><hr>"
   ]
  },
  {
   "cell_type": "code",
   "execution_count": 64,
   "id": "99c2f275-fa09-477a-aedd-5a5acee80f0e",
   "metadata": {},
   "outputs": [
    {
     "data": {
      "text/plain": [
       "Vehicle_Type\n",
       "Car                                      497992\n",
       "Van / Goods 3.5 tonnes mgw or under       34160\n",
       "Bus or coach (17 or more pass seats)      25878\n",
       "Motorcycle over 500cc                     25657\n",
       "Goods 7.5 tonnes mgw and over             17307\n",
       "Motorcycle 125cc and under                15269\n",
       "Taxi/Private hire car                     13294\n",
       "Motorcycle over 125cc and up to 500cc      7656\n",
       "Motorcycle 50cc and under                  7603\n",
       "Goods over 3.5t. and under 7.5t            6096\n",
       "Name: count, dtype: int64"
      ]
     },
     "execution_count": 64,
     "metadata": {},
     "output_type": "execute_result"
    }
   ],
   "source": [
    "vehicle_type_counts = df['Vehicle_Type'].value_counts().head(10)\n",
    "vehicle_type_counts"
   ]
  },
  {
   "cell_type": "markdown",
   "id": "bb749eab-c52d-48d7-9ed1-934d0f3e5ca0",
   "metadata": {},
   "source": [
    "<h3>INSIGHT: Cars make up the bulk of vehicles involved in accidents, simply because they dominate traffic volume. Motorcycles and vans also appear prominently, while heavy vehicles and buses are much less frequent.</h3><hr>"
   ]
  },
  {
   "cell_type": "markdown",
   "id": "772188e8-b770-4756-87db-965c7a547514",
   "metadata": {},
   "source": [
    "<h1>Question15: Which districts record the most accidents?</h1><hr>"
   ]
  },
  {
   "cell_type": "code",
   "execution_count": 66,
   "id": "685dc5f7-a7a5-4682-9fac-92fd11e0cf55",
   "metadata": {},
   "outputs": [
    {
     "data": {
      "text/plain": [
       "District Area\n",
       "Birmingham          13491\n",
       "Leeds                8898\n",
       "Manchester           6720\n",
       "Bradford             6212\n",
       "Sheffield            5710\n",
       "Westminster          5706\n",
       "Liverpool            5587\n",
       "Glasgow City         4942\n",
       "Bristol, City of     4819\n",
       "Kirklees             4690\n",
       "Name: count, dtype: int64"
      ]
     },
     "execution_count": 66,
     "metadata": {},
     "output_type": "execute_result"
    }
   ],
   "source": [
    "district_counts = df['District Area'].value_counts().head(10)\n",
    "district_counts"
   ]
  },
  {
   "cell_type": "markdown",
   "id": "2f7139dc-1005-48e3-99f3-ec1613f24c2f",
   "metadata": {},
   "source": [
    "<h3>INSIGHT: The busiest districts which is Birmingham record the highest accident numbers with 13491. High population density, traffic congestion, and more complex road networks drive this trend.</h3><hr>"
   ]
  },
  {
   "cell_type": "markdown",
   "id": "6c176d68-58a6-4429-8923-de3dd3a10cc3",
   "metadata": {},
   "source": [
    "<h1>Question16: Are multi-vehicle crashes deadlier than single-vehicle ones?</h1><hr>"
   ]
  },
  {
   "cell_type": "code",
   "execution_count": 68,
   "id": "057d4f00-a4ef-4527-9516-6201d00830cc",
   "metadata": {},
   "outputs": [
    {
     "data": {
      "text/html": [
       "<div>\n",
       "<style scoped>\n",
       "    .dataframe tbody tr th:only-of-type {\n",
       "        vertical-align: middle;\n",
       "    }\n",
       "\n",
       "    .dataframe tbody tr th {\n",
       "        vertical-align: top;\n",
       "    }\n",
       "\n",
       "    .dataframe thead th {\n",
       "        text-align: right;\n",
       "    }\n",
       "</style>\n",
       "<table border=\"1\" class=\"dataframe\">\n",
       "  <thead>\n",
       "    <tr style=\"text-align: right;\">\n",
       "      <th>Accident_Severity</th>\n",
       "      <th>Fatal</th>\n",
       "      <th>Serious</th>\n",
       "      <th>Slight</th>\n",
       "    </tr>\n",
       "    <tr>\n",
       "      <th>Number_of_Vehicles</th>\n",
       "      <th></th>\n",
       "      <th></th>\n",
       "      <th></th>\n",
       "    </tr>\n",
       "  </thead>\n",
       "  <tbody>\n",
       "    <tr>\n",
       "      <th>1</th>\n",
       "      <td>0.019349</td>\n",
       "      <td>0.193937</td>\n",
       "      <td>0.786714</td>\n",
       "    </tr>\n",
       "    <tr>\n",
       "      <th>2</th>\n",
       "      <td>0.008845</td>\n",
       "      <td>0.106068</td>\n",
       "      <td>0.885088</td>\n",
       "    </tr>\n",
       "    <tr>\n",
       "      <th>3</th>\n",
       "      <td>0.017044</td>\n",
       "      <td>0.109988</td>\n",
       "      <td>0.872969</td>\n",
       "    </tr>\n",
       "    <tr>\n",
       "      <th>4</th>\n",
       "      <td>0.024071</td>\n",
       "      <td>0.118584</td>\n",
       "      <td>0.857345</td>\n",
       "    </tr>\n",
       "    <tr>\n",
       "      <th>5</th>\n",
       "      <td>0.028409</td>\n",
       "      <td>0.132305</td>\n",
       "      <td>0.839286</td>\n",
       "    </tr>\n",
       "    <tr>\n",
       "      <th>6</th>\n",
       "      <td>0.036939</td>\n",
       "      <td>0.159631</td>\n",
       "      <td>0.803430</td>\n",
       "    </tr>\n",
       "    <tr>\n",
       "      <th>7</th>\n",
       "      <td>0.057432</td>\n",
       "      <td>0.212838</td>\n",
       "      <td>0.729730</td>\n",
       "    </tr>\n",
       "    <tr>\n",
       "      <th>8</th>\n",
       "      <td>0.081633</td>\n",
       "      <td>0.170068</td>\n",
       "      <td>0.748299</td>\n",
       "    </tr>\n",
       "    <tr>\n",
       "      <th>9</th>\n",
       "      <td>0.017544</td>\n",
       "      <td>0.087719</td>\n",
       "      <td>0.894737</td>\n",
       "    </tr>\n",
       "    <tr>\n",
       "      <th>10</th>\n",
       "      <td>0.074074</td>\n",
       "      <td>0.185185</td>\n",
       "      <td>0.740741</td>\n",
       "    </tr>\n",
       "    <tr>\n",
       "      <th>11</th>\n",
       "      <td>0.166667</td>\n",
       "      <td>0.000000</td>\n",
       "      <td>0.833333</td>\n",
       "    </tr>\n",
       "    <tr>\n",
       "      <th>12</th>\n",
       "      <td>0.000000</td>\n",
       "      <td>0.285714</td>\n",
       "      <td>0.714286</td>\n",
       "    </tr>\n",
       "    <tr>\n",
       "      <th>13</th>\n",
       "      <td>0.000000</td>\n",
       "      <td>0.333333</td>\n",
       "      <td>0.666667</td>\n",
       "    </tr>\n",
       "    <tr>\n",
       "      <th>14</th>\n",
       "      <td>0.333333</td>\n",
       "      <td>0.000000</td>\n",
       "      <td>0.666667</td>\n",
       "    </tr>\n",
       "    <tr>\n",
       "      <th>15</th>\n",
       "      <td>0.000000</td>\n",
       "      <td>0.000000</td>\n",
       "      <td>1.000000</td>\n",
       "    </tr>\n",
       "    <tr>\n",
       "      <th>16</th>\n",
       "      <td>0.250000</td>\n",
       "      <td>0.250000</td>\n",
       "      <td>0.500000</td>\n",
       "    </tr>\n",
       "    <tr>\n",
       "      <th>19</th>\n",
       "      <td>0.000000</td>\n",
       "      <td>1.000000</td>\n",
       "      <td>0.000000</td>\n",
       "    </tr>\n",
       "    <tr>\n",
       "      <th>28</th>\n",
       "      <td>1.000000</td>\n",
       "      <td>0.000000</td>\n",
       "      <td>0.000000</td>\n",
       "    </tr>\n",
       "    <tr>\n",
       "      <th>32</th>\n",
       "      <td>0.000000</td>\n",
       "      <td>0.000000</td>\n",
       "      <td>1.000000</td>\n",
       "    </tr>\n",
       "  </tbody>\n",
       "</table>\n",
       "</div>"
      ],
      "text/plain": [
       "Accident_Severity      Fatal   Serious    Slight\n",
       "Number_of_Vehicles                              \n",
       "1                   0.019349  0.193937  0.786714\n",
       "2                   0.008845  0.106068  0.885088\n",
       "3                   0.017044  0.109988  0.872969\n",
       "4                   0.024071  0.118584  0.857345\n",
       "5                   0.028409  0.132305  0.839286\n",
       "6                   0.036939  0.159631  0.803430\n",
       "7                   0.057432  0.212838  0.729730\n",
       "8                   0.081633  0.170068  0.748299\n",
       "9                   0.017544  0.087719  0.894737\n",
       "10                  0.074074  0.185185  0.740741\n",
       "11                  0.166667  0.000000  0.833333\n",
       "12                  0.000000  0.285714  0.714286\n",
       "13                  0.000000  0.333333  0.666667\n",
       "14                  0.333333  0.000000  0.666667\n",
       "15                  0.000000  0.000000  1.000000\n",
       "16                  0.250000  0.250000  0.500000\n",
       "19                  0.000000  1.000000  0.000000\n",
       "28                  1.000000  0.000000  0.000000\n",
       "32                  0.000000  0.000000  1.000000"
      ]
     },
     "execution_count": 68,
     "metadata": {},
     "output_type": "execute_result"
    }
   ],
   "source": [
    "multi_vs_single = df.groupby('Number_of_Vehicles')['Accident_Severity'].value_counts(normalize=True).unstack(fill_value=0)\n",
    "multi_vs_single"
   ]
  },
  {
   "cell_type": "markdown",
   "id": "192781b7-33bf-4f2c-92c8-bcdc0d027091",
   "metadata": {},
   "source": [
    "<h3>INSIGHT: Single-vehicle accidents are more likely to be fatal, often involving loss of control at speed or collisions with fixed objects. Multi-vehicle crashes, while more common, usually result in slight injuries.</h3><hr>"
   ]
  },
  {
   "cell_type": "markdown",
   "id": "5021681d-feba-4bc6-80b4-69a1c8c7be29",
   "metadata": {},
   "source": [
    "<h1>Question17: Which combination of light and weather conditions is most dangerous?</h1><hr>"
   ]
  },
  {
   "cell_type": "code",
   "execution_count": 70,
   "id": "18627ea5-1aa5-4fe0-86b4-47cf84c2a863",
   "metadata": {},
   "outputs": [
    {
     "data": {
      "text/html": [
       "<div>\n",
       "<style scoped>\n",
       "    .dataframe tbody tr th:only-of-type {\n",
       "        vertical-align: middle;\n",
       "    }\n",
       "\n",
       "    .dataframe tbody tr th {\n",
       "        vertical-align: top;\n",
       "    }\n",
       "\n",
       "    .dataframe thead th {\n",
       "        text-align: right;\n",
       "    }\n",
       "</style>\n",
       "<table border=\"1\" class=\"dataframe\">\n",
       "  <thead>\n",
       "    <tr style=\"text-align: right;\">\n",
       "      <th></th>\n",
       "      <th>Accident_Severity</th>\n",
       "      <th>Fatal</th>\n",
       "      <th>Serious</th>\n",
       "      <th>Slight</th>\n",
       "    </tr>\n",
       "    <tr>\n",
       "      <th>Light_Conditions</th>\n",
       "      <th>Weather_Conditions</th>\n",
       "      <th></th>\n",
       "      <th></th>\n",
       "      <th></th>\n",
       "    </tr>\n",
       "  </thead>\n",
       "  <tbody>\n",
       "    <tr>\n",
       "      <th rowspan=\"8\" valign=\"top\">Darkness - lighting unknown</th>\n",
       "      <th>Fine + high winds</th>\n",
       "      <td>3</td>\n",
       "      <td>7</td>\n",
       "      <td>49</td>\n",
       "    </tr>\n",
       "    <tr>\n",
       "      <th>Fine no high winds</th>\n",
       "      <td>57</td>\n",
       "      <td>662</td>\n",
       "      <td>4614</td>\n",
       "    </tr>\n",
       "    <tr>\n",
       "      <th>Fog or mist</th>\n",
       "      <td>0</td>\n",
       "      <td>6</td>\n",
       "      <td>59</td>\n",
       "    </tr>\n",
       "    <tr>\n",
       "      <th>Other</th>\n",
       "      <td>1</td>\n",
       "      <td>31</td>\n",
       "      <td>154</td>\n",
       "    </tr>\n",
       "    <tr>\n",
       "      <th>Raining + high winds</th>\n",
       "      <td>2</td>\n",
       "      <td>14</td>\n",
       "      <td>95</td>\n",
       "    </tr>\n",
       "    <tr>\n",
       "      <th>Raining no high winds</th>\n",
       "      <td>5</td>\n",
       "      <td>66</td>\n",
       "      <td>550</td>\n",
       "    </tr>\n",
       "    <tr>\n",
       "      <th>Snowing + high winds</th>\n",
       "      <td>0</td>\n",
       "      <td>0</td>\n",
       "      <td>15</td>\n",
       "    </tr>\n",
       "    <tr>\n",
       "      <th>Snowing no high winds</th>\n",
       "      <td>0</td>\n",
       "      <td>8</td>\n",
       "      <td>86</td>\n",
       "    </tr>\n",
       "    <tr>\n",
       "      <th rowspan=\"8\" valign=\"top\">Darkness - lights lit</th>\n",
       "      <th>Fine + high winds</th>\n",
       "      <td>44</td>\n",
       "      <td>311</td>\n",
       "      <td>1497</td>\n",
       "    </tr>\n",
       "    <tr>\n",
       "      <th>Fine no high winds</th>\n",
       "      <td>1482</td>\n",
       "      <td>14532</td>\n",
       "      <td>77944</td>\n",
       "    </tr>\n",
       "    <tr>\n",
       "      <th>Fog or mist</th>\n",
       "      <td>20</td>\n",
       "      <td>128</td>\n",
       "      <td>773</td>\n",
       "    </tr>\n",
       "    <tr>\n",
       "      <th>Other</th>\n",
       "      <td>38</td>\n",
       "      <td>552</td>\n",
       "      <td>4213</td>\n",
       "    </tr>\n",
       "    <tr>\n",
       "      <th>Raining + high winds</th>\n",
       "      <td>44</td>\n",
       "      <td>426</td>\n",
       "      <td>2596</td>\n",
       "    </tr>\n",
       "    <tr>\n",
       "      <th>Raining no high winds</th>\n",
       "      <td>226</td>\n",
       "      <td>2996</td>\n",
       "      <td>19444</td>\n",
       "    </tr>\n",
       "    <tr>\n",
       "      <th>Snowing + high winds</th>\n",
       "      <td>1</td>\n",
       "      <td>32</td>\n",
       "      <td>208</td>\n",
       "    </tr>\n",
       "    <tr>\n",
       "      <th>Snowing no high winds</th>\n",
       "      <td>5</td>\n",
       "      <td>153</td>\n",
       "      <td>1670</td>\n",
       "    </tr>\n",
       "    <tr>\n",
       "      <th rowspan=\"8\" valign=\"top\">Darkness - lights unlit</th>\n",
       "      <th>Fine + high winds</th>\n",
       "      <td>2</td>\n",
       "      <td>9</td>\n",
       "      <td>40</td>\n",
       "    </tr>\n",
       "    <tr>\n",
       "      <th>Fine no high winds</th>\n",
       "      <td>35</td>\n",
       "      <td>246</td>\n",
       "      <td>1464</td>\n",
       "    </tr>\n",
       "    <tr>\n",
       "      <th>Fog or mist</th>\n",
       "      <td>1</td>\n",
       "      <td>4</td>\n",
       "      <td>32</td>\n",
       "    </tr>\n",
       "    <tr>\n",
       "      <th>Other</th>\n",
       "      <td>0</td>\n",
       "      <td>21</td>\n",
       "      <td>122</td>\n",
       "    </tr>\n",
       "    <tr>\n",
       "      <th>Raining + high winds</th>\n",
       "      <td>2</td>\n",
       "      <td>11</td>\n",
       "      <td>60</td>\n",
       "    </tr>\n",
       "    <tr>\n",
       "      <th>Raining no high winds</th>\n",
       "      <td>5</td>\n",
       "      <td>63</td>\n",
       "      <td>391</td>\n",
       "    </tr>\n",
       "    <tr>\n",
       "      <th>Snowing + high winds</th>\n",
       "      <td>0</td>\n",
       "      <td>1</td>\n",
       "      <td>4</td>\n",
       "    </tr>\n",
       "    <tr>\n",
       "      <th>Snowing no high winds</th>\n",
       "      <td>0</td>\n",
       "      <td>5</td>\n",
       "      <td>25</td>\n",
       "    </tr>\n",
       "    <tr>\n",
       "      <th rowspan=\"8\" valign=\"top\">Darkness - no lighting</th>\n",
       "      <th>Fine + high winds</th>\n",
       "      <td>33</td>\n",
       "      <td>156</td>\n",
       "      <td>607</td>\n",
       "    </tr>\n",
       "    <tr>\n",
       "      <th>Fine no high winds</th>\n",
       "      <td>1250</td>\n",
       "      <td>5177</td>\n",
       "      <td>18824</td>\n",
       "    </tr>\n",
       "    <tr>\n",
       "      <th>Fog or mist</th>\n",
       "      <td>29</td>\n",
       "      <td>138</td>\n",
       "      <td>695</td>\n",
       "    </tr>\n",
       "    <tr>\n",
       "      <th>Other</th>\n",
       "      <td>43</td>\n",
       "      <td>250</td>\n",
       "      <td>1622</td>\n",
       "    </tr>\n",
       "    <tr>\n",
       "      <th>Raining + high winds</th>\n",
       "      <td>49</td>\n",
       "      <td>238</td>\n",
       "      <td>1136</td>\n",
       "    </tr>\n",
       "    <tr>\n",
       "      <th>Raining no high winds</th>\n",
       "      <td>196</td>\n",
       "      <td>1082</td>\n",
       "      <td>4930</td>\n",
       "    </tr>\n",
       "    <tr>\n",
       "      <th>Snowing + high winds</th>\n",
       "      <td>1</td>\n",
       "      <td>26</td>\n",
       "      <td>144</td>\n",
       "    </tr>\n",
       "    <tr>\n",
       "      <th>Snowing no high winds</th>\n",
       "      <td>11</td>\n",
       "      <td>107</td>\n",
       "      <td>693</td>\n",
       "    </tr>\n",
       "    <tr>\n",
       "      <th rowspan=\"8\" valign=\"top\">Daylight</th>\n",
       "      <th>Fine + high winds</th>\n",
       "      <td>93</td>\n",
       "      <td>762</td>\n",
       "      <td>4941</td>\n",
       "    </tr>\n",
       "    <tr>\n",
       "      <th>Fine no high winds</th>\n",
       "      <td>4383</td>\n",
       "      <td>52668</td>\n",
       "      <td>351675</td>\n",
       "    </tr>\n",
       "    <tr>\n",
       "      <th>Fog or mist</th>\n",
       "      <td>32</td>\n",
       "      <td>207</td>\n",
       "      <td>1404</td>\n",
       "    </tr>\n",
       "    <tr>\n",
       "      <th>Other</th>\n",
       "      <td>83</td>\n",
       "      <td>947</td>\n",
       "      <td>9073</td>\n",
       "    </tr>\n",
       "    <tr>\n",
       "      <th>Raining + high winds</th>\n",
       "      <td>48</td>\n",
       "      <td>572</td>\n",
       "      <td>4322</td>\n",
       "    </tr>\n",
       "    <tr>\n",
       "      <th>Raining no high winds</th>\n",
       "      <td>416</td>\n",
       "      <td>5261</td>\n",
       "      <td>44065</td>\n",
       "    </tr>\n",
       "    <tr>\n",
       "      <th>Snowing + high winds</th>\n",
       "      <td>1</td>\n",
       "      <td>50</td>\n",
       "      <td>402</td>\n",
       "    </tr>\n",
       "    <tr>\n",
       "      <th>Snowing no high winds</th>\n",
       "      <td>20</td>\n",
       "      <td>292</td>\n",
       "      <td>3163</td>\n",
       "    </tr>\n",
       "  </tbody>\n",
       "</table>\n",
       "</div>"
      ],
      "text/plain": [
       "Accident_Severity                                  Fatal  Serious  Slight\n",
       "Light_Conditions            Weather_Conditions                           \n",
       "Darkness - lighting unknown Fine + high winds          3        7      49\n",
       "                            Fine no high winds        57      662    4614\n",
       "                            Fog or mist                0        6      59\n",
       "                            Other                      1       31     154\n",
       "                            Raining + high winds       2       14      95\n",
       "                            Raining no high winds      5       66     550\n",
       "                            Snowing + high winds       0        0      15\n",
       "                            Snowing no high winds      0        8      86\n",
       "Darkness - lights lit       Fine + high winds         44      311    1497\n",
       "                            Fine no high winds      1482    14532   77944\n",
       "                            Fog or mist               20      128     773\n",
       "                            Other                     38      552    4213\n",
       "                            Raining + high winds      44      426    2596\n",
       "                            Raining no high winds    226     2996   19444\n",
       "                            Snowing + high winds       1       32     208\n",
       "                            Snowing no high winds      5      153    1670\n",
       "Darkness - lights unlit     Fine + high winds          2        9      40\n",
       "                            Fine no high winds        35      246    1464\n",
       "                            Fog or mist                1        4      32\n",
       "                            Other                      0       21     122\n",
       "                            Raining + high winds       2       11      60\n",
       "                            Raining no high winds      5       63     391\n",
       "                            Snowing + high winds       0        1       4\n",
       "                            Snowing no high winds      0        5      25\n",
       "Darkness - no lighting      Fine + high winds         33      156     607\n",
       "                            Fine no high winds      1250     5177   18824\n",
       "                            Fog or mist               29      138     695\n",
       "                            Other                     43      250    1622\n",
       "                            Raining + high winds      49      238    1136\n",
       "                            Raining no high winds    196     1082    4930\n",
       "                            Snowing + high winds       1       26     144\n",
       "                            Snowing no high winds     11      107     693\n",
       "Daylight                    Fine + high winds         93      762    4941\n",
       "                            Fine no high winds      4383    52668  351675\n",
       "                            Fog or mist               32      207    1404\n",
       "                            Other                     83      947    9073\n",
       "                            Raining + high winds      48      572    4322\n",
       "                            Raining no high winds    416     5261   44065\n",
       "                            Snowing + high winds       1       50     402\n",
       "                            Snowing no high winds     20      292    3163"
      ]
     },
     "execution_count": 70,
     "metadata": {},
     "output_type": "execute_result"
    }
   ],
   "source": [
    "combo = df.groupby(['Light_Conditions','Weather_Conditions'])['Accident_Severity'].value_counts().unstack(fill_value=0)\n",
    "combo\n"
   ]
  },
  {
   "cell_type": "markdown",
   "id": "547e5644-026c-4d7e-b591-8113366586b6",
   "metadata": {},
   "source": [
    "<h3>INSIGHT: The most common combination is daylight with fine weather, simply because traffic is busiest then and riders tends to get in a high speed.</h3><hr>"
   ]
  },
  {
   "cell_type": "markdown",
   "id": "874120ea-0834-448a-9455-58899ba79108",
   "metadata": {},
   "source": [
    "<h1>Question18: What’s the trend of accidents over the years?</h1><hr>"
   ]
  },
  {
   "cell_type": "code",
   "execution_count": 71,
   "id": "8062e07c-4977-41e6-98fe-69ae8fe29644",
   "metadata": {},
   "outputs": [
    {
     "data": {
      "text/plain": [
       "Accident Date\n",
       "2019.0    71867\n",
       "2020.0    70163\n",
       "2021.0    66172\n",
       "2022.0    56805\n",
       "Name: count, dtype: int64"
      ]
     },
     "execution_count": 71,
     "metadata": {},
     "output_type": "execute_result"
    }
   ],
   "source": [
    "trend = df['Accident Date'].dt.year.value_counts().sort_index()\n",
    "trend"
   ]
  },
  {
   "cell_type": "markdown",
   "id": "8a3fe8a2-bbaa-4e72-ae09-10d35f32b199",
   "metadata": {},
   "source": [
    "<h3>INSIGHT: Accident numbers show fluctuations over time, with some years trending downward due to better safety regulations, vehicle technology, and enforcement. Spikes may coincide with higher traffic volumes or seasonal effects.</h3><hr>"
   ]
  },
  {
   "cell_type": "markdown",
   "id": "e9e88847-bca0-4cad-9d8b-d2b73a7cd3cc",
   "metadata": {},
   "source": [
    "<h1>Question19: Are fatal accidents more common in rural coordinates (low density areas)?</h1><hr>"
   ]
  },
  {
   "cell_type": "code",
   "execution_count": 72,
   "id": "f746d404-eb32-4884-9d11-b41725cd8093",
   "metadata": {},
   "outputs": [
    {
     "data": {
      "text/html": [
       "<div>\n",
       "<style scoped>\n",
       "    .dataframe tbody tr th:only-of-type {\n",
       "        vertical-align: middle;\n",
       "    }\n",
       "\n",
       "    .dataframe tbody tr th {\n",
       "        vertical-align: top;\n",
       "    }\n",
       "\n",
       "    .dataframe thead th {\n",
       "        text-align: right;\n",
       "    }\n",
       "</style>\n",
       "<table border=\"1\" class=\"dataframe\">\n",
       "  <thead>\n",
       "    <tr style=\"text-align: right;\">\n",
       "      <th></th>\n",
       "      <th>Latitude</th>\n",
       "      <th>Longitude</th>\n",
       "    </tr>\n",
       "  </thead>\n",
       "  <tbody>\n",
       "    <tr>\n",
       "      <th>count</th>\n",
       "      <td>8661.000000</td>\n",
       "      <td>8661.000000</td>\n",
       "    </tr>\n",
       "    <tr>\n",
       "      <th>mean</th>\n",
       "      <td>52.696000</td>\n",
       "      <td>-1.546123</td>\n",
       "    </tr>\n",
       "    <tr>\n",
       "      <th>std</th>\n",
       "      <td>1.538523</td>\n",
       "      <td>1.450183</td>\n",
       "    </tr>\n",
       "    <tr>\n",
       "      <th>min</th>\n",
       "      <td>50.083471</td>\n",
       "      <td>-6.430902</td>\n",
       "    </tr>\n",
       "    <tr>\n",
       "      <th>25%</th>\n",
       "      <td>51.517812</td>\n",
       "      <td>-2.522856</td>\n",
       "    </tr>\n",
       "    <tr>\n",
       "      <th>50%</th>\n",
       "      <td>52.436049</td>\n",
       "      <td>-1.499085</td>\n",
       "    </tr>\n",
       "    <tr>\n",
       "      <th>75%</th>\n",
       "      <td>53.501361</td>\n",
       "      <td>-0.362033</td>\n",
       "    </tr>\n",
       "    <tr>\n",
       "      <th>max</th>\n",
       "      <td>60.321208</td>\n",
       "      <td>1.751490</td>\n",
       "    </tr>\n",
       "  </tbody>\n",
       "</table>\n",
       "</div>"
      ],
      "text/plain": [
       "          Latitude    Longitude\n",
       "count  8661.000000  8661.000000\n",
       "mean     52.696000    -1.546123\n",
       "std       1.538523     1.450183\n",
       "min      50.083471    -6.430902\n",
       "25%      51.517812    -2.522856\n",
       "50%      52.436049    -1.499085\n",
       "75%      53.501361    -0.362033\n",
       "max      60.321208     1.751490"
      ]
     },
     "execution_count": 72,
     "metadata": {},
     "output_type": "execute_result"
    }
   ],
   "source": [
    "fatal_coords = df[df['Accident_Severity'] == 'Fatal'][['Latitude','Longitude']]\n",
    "fatal_coords.describe()"
   ]
  },
  {
   "cell_type": "markdown",
   "id": "5e587906-8664-4022-b66d-4c5409631973",
   "metadata": {},
   "source": [
    "<h3>INSIGHT: Fatal crashes are more dispersed, often outside city clusters. Sparse coordinates reflect rural roads where higher speeds and slower emergency response matter.</h3><hr>"
   ]
  },
  {
   "cell_type": "markdown",
   "id": "383c7a3e-7298-4bdc-b2b7-0b064225fa6f",
   "metadata": {},
   "source": [
    "<h1>Question20: Do accident frequencies correlate with population-dense regions (lat/long clustering)?</h1><hr>"
   ]
  },
  {
   "cell_type": "code",
   "execution_count": 81,
   "id": "4d530ebc-0725-4dda-9728-8092a217da84",
   "metadata": {},
   "outputs": [
    {
     "data": {
      "text/plain": [
       "np.float64(0.03220068662590638)"
      ]
     },
     "execution_count": 81,
     "metadata": {},
     "output_type": "execute_result"
    }
   ],
   "source": [
    "corr = df['Latitude'].corr(df['Number_of_Casualties'])\n",
    "corr"
   ]
  },
  {
   "cell_type": "markdown",
   "id": "73a1daea-7cf2-44e1-92ba-f7311f33dedf",
   "metadata": {},
   "source": [
    "<h3>INSIGHT: There is a correlation between Latitude and Number of casualties. Towns and cities are more crowded, accidents usually involve more people. Busy roads mean that when a crash happens, it’s more likely to hurt multiple people at once.</h3>"
   ]
  }
 ],
 "metadata": {
  "kernelspec": {
   "display_name": "Python 3 (ipykernel)",
   "language": "python",
   "name": "python3"
  },
  "language_info": {
   "codemirror_mode": {
    "name": "ipython",
    "version": 3
   },
   "file_extension": ".py",
   "mimetype": "text/x-python",
   "name": "python",
   "nbconvert_exporter": "python",
   "pygments_lexer": "ipython3",
   "version": "3.13.5"
  }
 },
 "nbformat": 4,
 "nbformat_minor": 5
}
